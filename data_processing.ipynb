{
 "cells": [
  {
   "cell_type": "code",
   "execution_count": 16,
   "metadata": {},
   "outputs": [],
   "source": [
    "import os\n",
    "import cv2\n",
    "import random\n",
    "import pickle\n",
    "import mediapipe as mp\n",
    "import matplotlib.pyplot as plt"
   ]
  },
  {
   "cell_type": "code",
   "execution_count": 17,
   "metadata": {},
   "outputs": [],
   "source": [
    "mp_hands = mp.solutions.hands\n",
    "mp_drawing = mp.solutions.drawing_utils\n",
    "mp_drawing_styles = mp.solutions.drawing_styles\n",
    "\n",
    "hands = mp_hands.Hands(static_image_mode=True, min_detection_confidence=0.3)"
   ]
  },
  {
   "cell_type": "code",
   "execution_count": 18,
   "metadata": {},
   "outputs": [],
   "source": [
    "dir_rock = './data/0'\n",
    "dir_paper = './data/1'\n",
    "dir_scissors = './data/2'\n",
    "\n",
    "# Mendapatkan daftar semua file gambar di setiap kategori\n",
    "rock_images = os.listdir(dir_rock)\n",
    "paper_images = os.listdir(dir_paper)\n",
    "scissors_images = os.listdir(dir_scissors)"
   ]
  },
  {
   "cell_type": "code",
   "execution_count": 19,
   "metadata": {},
   "outputs": [],
   "source": [
    "# Mengacak dan memilih 700 gambar dari total gambar yang ada\n",
    "total_images = 900\n",
    "rock_sample_size = total_images // 3\n",
    "paper_sample_size = total_images // 3\n",
    "scissors_sample_size = total_images - rock_sample_size - paper_sample_size\n",
    "\n",
    "selected_rock = random.sample(rock_images, rock_sample_size)\n",
    "selected_paper = random.sample(paper_images, paper_sample_size)\n",
    "selected_scissors = random.sample(scissors_images, scissors_sample_size)"
   ]
  },
  {
   "cell_type": "code",
   "execution_count": 20,
   "metadata": {},
   "outputs": [
    {
     "name": "stdout",
     "output_type": "stream",
     "text": [
      "Proses pemilihan dan penghapusan gambar selesai.\n"
     ]
    }
   ],
   "source": [
    "# Menghapus file yang tidak dipilih\n",
    "for img in rock_images:\n",
    "    if img not in selected_rock:\n",
    "        os.remove(os.path.join(dir_rock, img))\n",
    "\n",
    "for img in paper_images:\n",
    "    if img not in selected_paper:\n",
    "        os.remove(os.path.join(dir_paper, img))\n",
    "\n",
    "for img in scissors_images:\n",
    "    if img not in selected_scissors:\n",
    "        os.remove(os.path.join(dir_scissors, img))\n",
    "\n",
    "print(\"Proses pemilihan dan penghapusan gambar selesai.\")"
   ]
  },
  {
   "cell_type": "code",
   "execution_count": 21,
   "metadata": {},
   "outputs": [
    {
     "name": "stdout",
     "output_type": "stream",
     "text": [
      "Jumlah gambar di folder 'Rock': 300\n",
      "Jumlah gambar di folder 'Paper': 300\n",
      "Jumlah gambar di folder 'Scissors': 300\n"
     ]
    }
   ],
   "source": [
    "# Menghitung jumlah gambar di setiap folder\n",
    "num_rock_images = len(os.listdir(dir_rock))\n",
    "num_paper_images = len(os.listdir(dir_paper))\n",
    "num_scissors_images = len(os.listdir(dir_scissors))\n",
    "\n",
    "# Mencetak jumlah gambar\n",
    "print(f\"Jumlah gambar di folder 'Rock': {num_rock_images}\")\n",
    "print(f\"Jumlah gambar di folder 'Paper': {num_paper_images}\")\n",
    "print(f\"Jumlah gambar di folder 'Scissors': {num_scissors_images}\")"
   ]
  },
  {
   "cell_type": "code",
   "execution_count": 23,
   "metadata": {},
   "outputs": [],
   "source": [
    "DATA_DIR = './data'\n",
    "data = []\n",
    "labels = []\n",
    "\n",
    "for dir_ in os.listdir(DATA_DIR):\n",
    "    dir_path = os.path.join(DATA_DIR, dir_)\n",
    "    if os.path.isdir(dir_path):  # Check if it is a directory\n",
    "        for img_path in os.listdir(dir_path):\n",
    "            img_file_path = os.path.join(dir_path, img_path)\n",
    "            if os.path.isfile(img_file_path):  # Check if it is a file\n",
    "                data_aux = []\n",
    "                x_ = []\n",
    "                y_ = []\n",
    "\n",
    "                img = cv2.imread(img_file_path)\n",
    "                if img is not None:  # Ensure the image is read correctly\n",
    "                    img_rgb = cv2.cvtColor(img, cv2.COLOR_BGR2RGB)\n",
    "\n",
    "                    results = hands.process(img_rgb)\n",
    "                    if results.multi_hand_landmarks:\n",
    "                        for hand_landmarks in results.multi_hand_landmarks:\n",
    "                            for i in range(len(hand_landmarks.landmark)):\n",
    "                                x = hand_landmarks.landmark[i].x\n",
    "                                y = hand_landmarks.landmark[i].y\n",
    "\n",
    "                                x_.append(x)\n",
    "                                y_.append(y)\n",
    "\n",
    "                            for i in range(len(hand_landmarks.landmark)):\n",
    "                                x = hand_landmarks.landmark[i].x\n",
    "                                y = hand_landmarks.landmark[i].y\n",
    "                                data_aux.append(x - min(x_))\n",
    "                                data_aux.append(y - min(y_))\n",
    "\n",
    "                        data.append(data_aux)\n",
    "                        labels.append(dir_)\n",
    "\n",
    "hands.close()"
   ]
  },
  {
   "cell_type": "code",
   "execution_count": null,
   "metadata": {},
   "outputs": [],
   "source": [
    "f = open('data.pickle', 'wb')\n",
    "pickle.dump({'data': data, 'labels': labels}, f)\n",
    "f.close()"
   ]
  }
 ],
 "metadata": {
  "kernelspec": {
   "display_name": "rps",
   "language": "python",
   "name": "python3"
  },
  "language_info": {
   "codemirror_mode": {
    "name": "ipython",
    "version": 3
   },
   "file_extension": ".py",
   "mimetype": "text/x-python",
   "name": "python",
   "nbconvert_exporter": "python",
   "pygments_lexer": "ipython3",
   "version": "3.8.18"
  }
 },
 "nbformat": 4,
 "nbformat_minor": 2
}
